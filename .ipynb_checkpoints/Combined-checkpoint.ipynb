{
 "cells": [
   "cell_type": "code",
   "execution_count": 4,
   "metadata": {},
   "outputs": [],
   "source": [
    "import sys\n",
    "import openpyxl as xl\n",
    "from tqdm import tqdm\n",
    "import pulp\n",
    "import time\n",
    "import pandas as pd\n",
    "from Procedures import neig_states, cell, instance, compute_distance2, correct_zip, get_lm_pricing, averageOrig"
   ]
  },
  {
   "cell_type": "code",
   "execution_count": 5,
   "metadata": {
    "collapsed": true
   },
   "outputs": [],
   "source": [
    "number_days = 30*6\n",
    "weight_treshold_ltl = 200\n",
    "nb_trucks = round(number_days*5/7)\n",
    "weight_per_volume = 100\n",
    "coefficient= {'intercept':-3.683,'weight':0.1498,'dist':0.0537,'weight_dist':0.0001,'CA':0,\"GA\":-8.4855,\"MD\":-7.5867,\"OH\":3.4399}"
   ]
  },
  {
   "cell_type": "code",
   "execution_count": 7,
   "metadata": {},
   "outputs": [
    {
     "name": "stdout",
     "output_type": "stream",
     "text": [
      "Import Workbook\n"
     ]
    }
   ],
   "source": [
    "print('Import Workbook') \n",
    "# Open Worksheet that contains list of DA, List of Zip code with Volume, Pricing spreadsheet,...\n",
    "wb = xl.load_workbook('C:\\HomeDepot_Excel_Files\\Standard_File.xlsx')\n",
    "# Open All Different Spreadsheet\n",
    "w_neig = wb['List_of_Neighboring_States']\n",
    "w_da = wb['DA_List']\n",
    "w_zip = wb['Zip_Allocation_and_Pricing']\n",
    "w_lm_pricing = wb[\"LM_Pricing\"]\n",
    "w_range = wb[\"Zip_Range\"]\n",
    "w_dfc = wb[\"DFC list\"]"
   ]
  },
  {
   "cell_type": "code",
   "execution_count": 8,
   "metadata": {},
   "outputs": [
    {
     "name": "stdout",
     "output_type": "stream",
     "text": [
      "Open Lat Long Database\n"
     ]
    }
   ],
   "source": [
    "# Import Database of Zipcode Latitude and Longitude\n",
    "print('Open Lat Long Database')\n",
    "wdata = xl.load_workbook('C:\\HomeDepot_Excel_Files\\Zip_latlong.xlsx')\n",
    "wslatlong = wdata['Zip']"
   ]
  },
  {
   "cell_type": "code",
   "execution_count": 9,
   "metadata": {},
   "outputs": [
    {
     "name": "stdout",
     "output_type": "stream",
     "text": [
      "Import Database LTL\n"
     ]
    }
   ],
   "source": [
    "#Importing Excel sheet as Panda Data Frames to create Dictionary with every destination state\n",
    "#as a Key and each Key has a nested Dictionary with the weight (percentage) of invoices \n",
    "#coming from every origin for LTL pricing.\n",
    "print('Import Database LTL')\n",
    "wbLtl = pd.ExcelFile('C:\\HomeDepot_Excel_Files\\ltl_price.xlsx')\n",
    "ltl_price = wbLtl.parse('ltl_price', converters={'dest_zip': str,'orig_zip': str})\n"
   ]
  },
  {
   "cell_type": "code",
   "execution_count": 10,
   "metadata": {},
   "outputs": [
    {
     "name": "stdout",
     "output_type": "stream",
     "text": [
      "Create all Dictionnaries\n"
     ]
    }
   ],
   "source": [
    "print (\"Create all Dictionnaries\")\n",
    "# Get number of DA and their Zip Codes\n",
    "n_da= instance(w_da)\n",
    "n_zip = instance(w_zip)\n",
    "linelatlong = instance(wslatlong)"
   ]
  },
  {
   "cell_type": "code",
   "execution_count": 11,
   "metadata": {
    "collapsed": true
   },
   "outputs": [],
   "source": [
    "# Create dictionnaries for DA and Zip(with volume in tuple) Grouped by State, \n",
    "# This is useful because Arcs are going to be created based on neighgboring states\n",
    "# Since distances don't depend on Carrier, if multiple DA are in the same zipcode only one will be counted\n",
    "\n",
    "# Dictionnary for DA  {State : [Da_ZipCode]} \n",
    "State_Da_dict = {}\n",
    "for r in range(n_da):\n",
    "    state = cell(w_da,r+2,3) \n",
    "    da_zip = correct_zip(str(cell(w_da,r+2,2))) \n",
    "#        Remove duplicate: DA in same zipcode but different carriers\n",
    "    State_Da_dict[state] = list(set().union(State_Da_dict.setdefault(state,[]),[da_zip]))"
   ]
  },
  {
   "cell_type": "code",
   "execution_count": 12,
   "metadata": {
    "collapsed": true
   },
   "outputs": [],
   "source": [
    "# Dictionnary for Zip {State : [( zipcode, volume)]}\n",
    "State_Zip_dict = {}\n",
    "for r in range(n_zip):\n",
    "    state = cell(w_zip,r+2,2)\n",
    "    zipcode = correct_zip(str(cell(w_zip,r+2,1))) \n",
    "    volume = cell(w_zip,r+2,7)\n",
    "    \n",
    "    State_Zip_dict.setdefault(state, []).append((zipcode, volume))"
   ]
  },
  {
   "cell_type": "code",
   "execution_count": 13,
   "metadata": {
    "collapsed": true
   },
   "outputs": [],
   "source": [
    "#Create Dictionnary for Da { Zip:(Zip, State, [Carrier])} will be useful o compute distances\n",
    "\n",
    "DA_ZipCode_Dict = {}\n",
    "for r in range(n_da):\n",
    "    zipcode = correct_zip(str(cell(w_da,r+2,2)))\n",
    "    state = cell(w_da, r+2, 3)\n",
    "    carrier = cell(w_da,2+r, 4)\n",
    "    \n",
    "    DA_ZipCode_Dict.setdefault(zipcode,{'Zip':zipcode, 'State':state, 'Carrier':[carrier]}) \n",
    "\n",
    "    DA_ZipCode_Dict[zipcode]['Carrier'] = list(set().union(DA_ZipCode_Dict[zipcode]['Carrier'],[carrier]))"
   ]
  },
  {
   "cell_type": "code",
   "execution_count": 14,
   "metadata": {
    "collapsed": true
   },
   "outputs": [],
   "source": [
    "# Other dictionnary for Da, { Zip + Carrier : (Zip, State, Carrier)}\n",
    "\n",
    "DAC_ZipCode_Dict = {}\n",
    "for r in range(n_da):\n",
    "    zipcode = correct_zip(str(cell(w_da,r+2,2)))\n",
    "    carrier = cell(w_da, r+2, 4)\n",
    "    state = cell(w_da, r+2, 3)\n",
    "    DAC_ZipCode_Dict[zipcode+' '+ carrier] = {'Zip':zipcode, 'State':state, 'Carrier':carrier}"
   ]
  },
  {
   "cell_type": "code",
   "execution_count": 15,
   "metadata": {
    "collapsed": true
   },
   "outputs": [],
   "source": [
    "#Create Dictionnary for Zipcode (Zip, Volume ,State)\n",
    "ZipCode_Dict={}\n",
    "for r in range(n_zip):\n",
    "    zipcode = correct_zip(str(cell(w_zip,2+r, 1)))\n",
    "    volume = cell(w_zip, r+2, 7)\n",
    "    state = cell(w_zip,r+2, 2)\n",
    "    ZipCode_Dict[zipcode]={'Zip':zipcode,'Volume':volume, 'State':state}         "
   ]
  },
  {
   "cell_type": "code",
   "execution_count": 17,
   "metadata": {
    "collapsed": true
   },
   "outputs": [],
   "source": [
    "# Create LM Pricing Dictionnary\n",
    "Pricing=get_lm_pricing(w_lm_pricing)\n",
    "\n",
    "# Get arc max range Dictionnary {State : Max range}\n",
    "Range = { cell(w_range,r+2,2) : cell(w_range,r+2,3) for r in range(instance(w_range))}"
   ]
  },
  {
   "cell_type": "code",
   "execution_count": 18,
   "metadata": {
    "collapsed": true
   },
   "outputs": [],
   "source": [
    "# Create dictionnary for the database lat long{Zip : (lat,long)}\n",
    "Zip_lat_long = {}\n",
    "for r in range(linelatlong):\n",
    "    zipcode = correct_zip(str(cell(wslatlong,r+2,1)))\n",
    "    lat = cell(wslatlong,r+2,2)\n",
    "    long = cell(wslatlong,r+2,3)\n",
    "    Zip_lat_long[zipcode] = (lat,long)"
   ]
  },
  {
   "cell_type": "code",
   "execution_count": 19,
   "metadata": {
    "collapsed": true
   },
   "outputs": [],
   "source": [
    "# Create Dictionnary of DFC {State : {Name, Zip, State}}\n",
    "DFC_Dict={}\n",
    "nbdfc = instance(w_dfc)\n",
    "for r in range(nbdfc):\n",
    "    name = cell(w_dfc,r+2,1)\n",
    "    zipcode = correct_zip(str(cell(w_dfc,r+2,2)))\n",
    "    state = cell(w_dfc,r+2,3)\n",
    "    DFC_Dict[state]={'State':state,'Name':name,'Zipcode':zipcode}"
   ]
  },
  {
   "cell_type": "code",
   "execution_count": 22,
   "metadata": {},
   "outputs": [
    {
     "ename": "NameError",
     "evalue": "name 'percDestin' is not defined",
     "output_type": "error",
     "traceback": [
      "\u001b[1;31m---------------------------------------------------------------------------\u001b[0m",
      "\u001b[1;31mNameError\u001b[0m                                 Traceback (most recent call last)",
      "\u001b[1;32m<ipython-input-22-4b62e4a1d9f4>\u001b[0m in \u001b[0;36m<module>\u001b[1;34m()\u001b[0m\n\u001b[0;32m      7\u001b[0m     \u001b[0mda_state\u001b[0m \u001b[1;33m=\u001b[0m \u001b[0mDA_ZipCode_Dict\u001b[0m\u001b[1;33m[\u001b[0m\u001b[0mda\u001b[0m\u001b[1;33m]\u001b[0m\u001b[1;33m[\u001b[0m\u001b[1;34m\"State\"\u001b[0m\u001b[1;33m]\u001b[0m\u001b[1;33m\u001b[0m\u001b[0m\n\u001b[0;32m      8\u001b[0m     \u001b[1;32mtry\u001b[0m\u001b[1;33m:\u001b[0m\u001b[1;33m\u001b[0m\u001b[0m\n\u001b[1;32m----> 9\u001b[1;33m         \u001b[1;32mfor\u001b[0m \u001b[0mdfc_state\u001b[0m \u001b[1;32min\u001b[0m \u001b[0mpercDestin\u001b[0m\u001b[1;33m[\u001b[0m\u001b[0mda_state\u001b[0m\u001b[1;33m]\u001b[0m\u001b[1;33m.\u001b[0m\u001b[0mkeys\u001b[0m\u001b[1;33m(\u001b[0m\u001b[1;33m)\u001b[0m\u001b[1;33m:\u001b[0m\u001b[1;33m\u001b[0m\u001b[0m\n\u001b[0m\u001b[0;32m     10\u001b[0m \u001b[1;33m\u001b[0m\u001b[0m\n\u001b[0;32m     11\u001b[0m             \u001b[0mdfc_zip\u001b[0m \u001b[1;33m=\u001b[0m \u001b[0mDFC_Dict\u001b[0m\u001b[1;33m[\u001b[0m\u001b[0mdfc_state\u001b[0m\u001b[1;33m]\u001b[0m\u001b[1;33m[\u001b[0m\u001b[1;34m'Zipcode'\u001b[0m\u001b[1;33m]\u001b[0m\u001b[1;33m\u001b[0m\u001b[0m\n",
      "\u001b[1;31mNameError\u001b[0m: name 'percDestin' is not defined"
     ]
    }
   ],
   "source": [
    "# Relation Da_Dfc is in format {da : {state_dfc : {distance, percentage from state}, global : {slope,cost_opening}}\n",
    "a = 0\n",
    "Da_Dfc = {}\n",
    "\n",
    "for da in DA_ZipCode_Dict.keys():\n",
    "    \n",
    "    da_state = DA_ZipCode_Dict[da][\"State\"]\n",
    "    try:\n",
    "        for dfc_state in percDestin[da_state].keys():\n",
    "            \n",
    "            dfc_zip = DFC_Dict[dfc_state]['Zipcode']\n",
    "            percentage = percDestin[da_state][dfc_state]\n",
    "            \n",
    "            distance, Zip_lat_long, b = compute_distance2(da,dfc_zip,Zip_lat_long)\n",
    "            \n",
    "            slope = coefficient[\"weight\"]+coefficient[\"weight_dist\"]*distance\n",
    "            \n",
    "            intercept = coefficient['intercept']+coefficient[dfc_state]+coefficient['dist']*distance\n",
    "            \n",
    "            cost_opening = intercept + weight_treshold_ltl * slope\n",
    "            \n",
    "            Da_Dfc.setdefault(da,{}).setdefault(dfc_state, {\"distance\":distance, \"percentage\" : percentage,\"slope\": slope,\"cost_opening\": cost_opening})\n",
    "            if b == 1 :\n",
    "                a += 1\n",
    "        slope = sum(Da_Dfc[da][dfc_state][\"slope\"]*Da_Dfc[da][dfc_state][\"percentage\"] for dfc_state in Da_Dfc[da].keys())\n",
    "        cost_opening = sum(Da_Dfc[da][dfc_state][\"cost_opening\"]*Da_Dfc[da][dfc_state][\"percentage\"] for dfc_state in Da_Dfc[da].keys())\n",
    "        Da_Dfc[da]['Global']={'slope' : slope, 'cost_opening' : cost_opening}\n",
    "    except KeyError:\n",
    "#        Just assume we take the previous cost\n",
    "        Da_Dfc.setdefault(da,{}).setdefault('Global',{'slope' : slope, 'cost_opening' : cost_opening, 'Warning':\"This Da doesn't have real slope or cost of opening\"}  )  "
   ]
  },
  {
   "cell_type": "code",
   "execution_count": 23,
   "metadata": {},
   "outputs": [
    {
     "name": "stdout",
     "output_type": "stream",
     "text": [
      "Creating combination Da Zipcode\n"
     ]
    },
    {
     "name": "stderr",
     "output_type": "stream",
     "text": [
      "100%|██████████| 48/48 [00:01<00:00, 32.14it/s]\n"
     ]
    }
   ],
   "source": [
    "# Create couple that need to have distance assigned to it based Neighboring states, \n",
    "# Go through every state, look at the Da inside, and assign them to all zip code in neighboring states\n",
    "\n",
    "combination = []\n",
    "# Iterate through the states\n",
    "print('Creating combination Da Zipcode')\n",
    "for state in tqdm(State_Da_dict.keys()):\n",
    "#    Create list of Da in the state\n",
    "    da_list = State_Da_dict[state]\n",
    "\n",
    "#   Create list of Zipcode that are in neigh state\n",
    "    zip_list = []\n",
    "    neighboring_states= neig_states(state,w_neig)\n",
    "    for n_state in neighboring_states:\n",
    "        zip_list += State_Zip_dict[n_state]\n",
    "# Create combination if Volume is not 0, have list of all combination [[da,zip]]\n",
    "    for da in da_list:\n",
    "        for pc in zip_list:\n",
    "            zipcode = pc[0]\n",
    "            volume = pc[1]\n",
    "            if volume != 0:\n",
    "                combination.append([da,zipcode])"
   ]
  },
  {
   "cell_type": "code",
   "execution_count": null,
   "metadata": {},
   "outputs": [
    {
     "name": "stdout",
     "output_type": "stream",
     "text": [
      "Compute distances\n"
     ]
    },
    {
     "name": "stderr",
     "output_type": "stream",
     "text": [
      " 89%|████████▉ | 777938/871343 [00:35<00:04, 22166.16it/s]"
     ]
    }
   ],
   "source": [
    "                \n",
    "# Compute distances for each combination\n",
    "nb_distances = len(combination)\n",
    "\n",
    "print(\"Compute distances\")\n",
    "for i in tqdm(range(nb_distances)):\n",
    "    da = combination[i][0]\n",
    "    zipcode = combination[i][1] \n",
    "    distance, Zip_lat_long, b = compute_distance2(da, zipcode, Zip_lat_long)\n",
    "    combination[i].append(distance)\n",
    "    if b == 1 :\n",
    "        a += 1\n",
    "\n",
    "# Update if new zipcodes have been added\n",
    "if a != 0:\n",
    "    print(\"Update Database\")\n",
    "    ZipList = Zip_lat_long.keys()\n",
    "    c = 0\n",
    "    for r in ZipList:\n",
    "        wslatlong.cell(row = c+2,column = 1).value = r\n",
    "        wslatlong.cell(row = c+2,column = 2).value = Zip_lat_long[r][0]\n",
    "        wslatlong.cell(row = c+2,column = 3).value = Zip_lat_long[r][1]\n",
    "        c+=1\n",
    "    wdata.save('C:\\HomeDepot_Excel_Files\\Zip_latlong.xlsx')\n",
    "    print('Database updated')\n",
    "    "
   ]
  },
  {
   "cell_type": "code",
   "execution_count": null,
   "metadata": {
    "collapsed": true
   },
   "outputs": [],
   "source": [
    "#Create arcs out of combination if distance is less than threshold \n",
    "#   { Zip : {DA+Carrier :{distance, lm_cost (come in next step), var(come in two steps)}}\n",
    "print(\"Build Arcs\")\n",
    "\n",
    "Arcs={}\n",
    "for i in tqdm(range(nb_distances)):\n",
    "    da = combination[i][0]\n",
    "    zipcode = combination[i][1] \n",
    "    distance = combination[i][2]\n",
    "#        Create an arc only if distance between DA and Zip is less than the Zip's state threshold\n",
    "    if distance< Range[ZipCode_Dict[zipcode]['State']]:\n",
    "        try:\n",
    "            for carrier in DA_ZipCode_Dict[da]['Carrier']:\n",
    "                Arcs[zipcode][da +\" \"+carrier ]={'distance' : distance}\n",
    "        except KeyError:\n",
    "            Arcs[zipcode]= {}\n",
    "            for carrier in DA_ZipCode_Dict[da]['Carrier']:\n",
    "                 Arcs[zipcode][da + \" \"+carrier]={'distance' : distance}\n",
    "\n",
    "# Compute Costs for the arcs\n",
    "for pc in Arcs.keys():\n",
    "    for da in Arcs[pc].keys():\n",
    "        \n",
    "        distance = Arcs[pc][da]['distance']        \n",
    "        da_state = DAC_ZipCode_Dict[da]['State']\n",
    "        da_carrier = DAC_ZipCode_Dict[da]['Carrier']\n",
    "        \n",
    "        try:\n",
    "            flat = Pricing[da_state][da_carrier]['Flat']\n",
    "            breakpoint = Pricing[da_state][da_carrier]['Break']\n",
    "            extra = Pricing[da_state][da_carrier]['Extra']\n",
    "        except KeyError:\n",
    "            sys.exit((\"LM_Cost spreadsheet does not contain pricing info for couple state-carrier %s, %s\" %(da_state,da_carrier)))\n",
    "            \n",
    "#        Check if distance Da_Zip is within flat distance\n",
    "        if distance <  breakpoint:\n",
    "            Arcs[pc][da]['lm_cost']=flat\n",
    "        else :\n",
    "            Arcs[pc][da]['lm_cost']=flat+ (distance - breakpoint) * extra\n",
    "            \n",
    "# Create Model\n",
    "prob = pulp.LpProblem(\"Minimize Distance\",pulp.LpMinimize)\n",
    "\n",
    "# Design arcs\n",
    "for pc in Arcs.keys():\n",
    "    for da in Arcs[pc].keys():\n",
    "        var = pulp.LpVariable(\"Arc_%s_%s)\" % (pc,da),0,1,pulp.LpContinuous)\n",
    "        Arcs[pc][da]['variable']=var\n",
    "\n",
    " "
   ]
  },
  {
   "cell_type": "code",
   "execution_count": null,
   "metadata": {
    "collapsed": true
   },
   "outputs": [],
   "source": [
    " Create Objective function : minimize distance\n",
    "print(\"Create objective and Constraint\")\n",
    "\n",
    "#           We add a fraction of distance to the lm cost so we can avoid equality in price\n",
    "prob += pulp.lpSum([(Arcs[pc][da]['lm_cost']+0.001*Arcs[pc][da]['distance'])*Arcs[pc][da]['variable'] for pc in Arcs.keys() for da in Arcs[pc].keys()])\n",
    "\n",
    "# Create Constraint : every Zip is allocated\n",
    "print(\"Create contraint 'every zipcode is assigned to a DA'\")\n",
    "for pc in tqdm(Arcs.keys()):          \n",
    "    prob += pulp.lpSum([Arcs[pc][da]['variable'] for da in Arcs[pc].keys()]) == 1\n",
    "\n",
    "# The problem is solved using PuLP's choice of Solver\n",
    "print(\"Solve Problem\")\n",
    "start_time = time.clock()\n",
    "prob.solve()\n",
    "end_time = time.clock()\n",
    "print(end_time-start_time)\n",
    "\n",
    "# The status of the solution is printed to the screen\n",
    "print(\"Status:\", pulp.LpStatus[prob.status])\n",
    "\n",
    "\n",
    "# The optimised objective function value is printed to the screen    \n",
    "print (\"total cost\", pulp.value(prob.objective))\n",
    "\n",
    "##Create workbook for results\n",
    "#w_result = xl.Workbook()\n",
    "#wresult = w_result.create_sheet('Optimization Results')\n",
    "## export results on excel\n",
    "\n",
    "#print(\"Exporting Results\")\n",
    "#\n",
    "#wresult.cell(row=1,column=1).value= \"ZipCode\"\n",
    "#wresult.cell(row=1,column=2).value= \"Carrier\"\n",
    "#wresult.cell(row=1,column=3).value= \"DaZipCode\"\n",
    "#wresult.cell(row=1,column=4).value= 'DA and Carrier'\n",
    "#wresult.cell(row=1,column=5).value= 'Volume'\n",
    "#wresult.cell(row=1,column=6).value= 'Unit Cost'\n",
    "## Print Results on excel\n",
    "#r=2\n",
    "#for pc in Arcs.keys():\n",
    "#    for da in Arcs[pc].keys():\n",
    "#        if Arcs[pc][da]['variable'].varValue !=0:\n",
    "#            wresult.cell(row=r,column=1).value= pc\n",
    "#            wresult.cell(row=r,column=2).value= da[6:]\n",
    "#            wresult.cell(row=r,column=3).value= da[:5]\n",
    "#            wresult.cell(row=r,column=4).value= da\n",
    "#            wresult.cell(row=r,column=5).value= ZipCode_Dict[pc]['Volume']            \n",
    "#            wresult.cell(row=r,column=6).value= Arcs[pc][da]['lm_cost']\n",
    "#            r+=1\n",
    "#\n",
    "#\n",
    "#print(\"Save File\")\n",
    "#\n",
    "#w_result.save(\"C:\\HomeDepot_Excel_Files\\Optimized.xlsx\")\n",
    "\n",
    "# Return List of useful DA\n",
    "Useful_Da = []\n",
    "for pc in Arcs.keys():\n",
    "    for da in Arcs[pc].keys():\n",
    "        if Arcs[pc][da]['variable'].varValue != 0:\n",
    "            Useful_Da = list(set().union([da],Useful_Da))\n",
    "\n",
    "\n",
    "  \n",
    "\"\"\"\n",
    "###############################################################\n",
    "###############################################################\n",
    "\n",
    "This part is the second optimization model (includes last mile and line haul)\n",
    "and uses only DAs that are useful (based on previous optimization)\n",
    "\n",
    "\\For now arcs are recreated while we could use previous dictionnary\n",
    "\\Model only has one treshold\n",
    "###############################################################\n",
    "###############################################################\n",
    "\"\"\"\n",
    "# Remove useless arcs\n",
    "Arcs={}\n",
    "for i in tqdm(range(nb_distances)):\n",
    "    da = combination[i][0]\n",
    "    zipcode = combination[i][1] \n",
    "    distance = combination[i][2]\n",
    "#        Create an arc only if distance between DA and Zip is less than the Zip's state threshold\n",
    "    if distance< Range[ZipCode_Dict[zipcode]['State']]:\n",
    "        try:\n",
    "            for carrier in DA_ZipCode_Dict[da]['Carrier']:\n",
    "                if da +\" \"+carrier in Useful_Da:\n",
    "                    Arcs[zipcode][da +\" \"+carrier ]={'distance' : distance}\n",
    "        except KeyError:\n",
    "            Arcs[zipcode]= {}\n",
    "            for carrier in DA_ZipCode_Dict[da]['Carrier']:\n",
    "                if da +\" \"+carrier in Useful_Da:\n",
    "                    Arcs[zipcode][da + \" \"+carrier]={'distance' : distance}\n",
    "\n",
    "# Compute Costs for the arcs\n",
    "for pc in Arcs.keys():\n",
    "    for da in Arcs[pc].keys():\n",
    "        \n",
    "        distance = Arcs[pc][da]['distance']        \n",
    "        da_state = DAC_ZipCode_Dict[da]['State']\n",
    "        da_carrier = DAC_ZipCode_Dict[da]['Carrier']\n",
    "        \n",
    "        try:\n",
    "            flat = Pricing[da_state][da_carrier]['Flat']\n",
    "            breakpoint = Pricing[da_state][da_carrier]['Break']\n",
    "            extra = Pricing[da_state][da_carrier]['Extra']\n",
    "        except KeyError:\n",
    "            sys.exit((\"LM_Cost spreadsheet does not contain pricing info for couple state-carrier %s, %s\" %(da_state,da_carrier)))\n",
    "            \n",
    "#        Check if distance Da_Zip is within flat distance\n",
    "        if distance <  breakpoint:\n",
    "            Arcs[pc][da]['lm_cost']=flat\n",
    "        else :\n",
    "            Arcs[pc][da]['lm_cost']=flat+ (distance - breakpoint) * extra\n",
    "            \n",
    "\n",
    "#   { Zip : {DA+Carrier :{distance, lm_cost (come in next step), var(come in two steps)}}\n",
    "print(\"Build Arcs\")\n",
    "\n",
    "# Create Model\n",
    "prob = pulp.LpProblem(\"Minimize HDU Cost\",pulp.LpMinimize)\n",
    "\n",
    "# Design arcs\n",
    "for pc in Arcs.keys():\n",
    "    for da in Arcs[pc].keys():\n",
    "\n",
    "        var = pulp.LpVariable(\"Arc_%s_%s)\" % (pc,da),0,1,pulp.LpContinuous)\n",
    "        Arcs[pc][da]['variable']=var\n",
    "            \n",
    "# Create variable for Das (OPEN AND VOLUME OVER 200)\n",
    "for da in Useful_Da:\n",
    "\n",
    "    ovar = pulp.LpVariable(\"Da_%s\" % (str(da)),0,1,pulp.LpBinary)\n",
    "    wvar = pulp.LpVariable(\"Da_%s_above_200LBS\" % (str(da)))\n",
    "    DAC_ZipCode_Dict[da]['opening_variable']=ovar\n",
    "    DAC_ZipCode_Dict[da]['Weight_variable']=wvar\n",
    "\n",
    "\n",
    "# Create Objective function : minimize distance\n",
    "print(\"Create objective and Constraint\")\n",
    "def lmcost(pc,da):\n",
    "    return Arcs[pc][da]['lm_cost']*ZipCode_Dict[pc]['Volume']*Arcs[pc][da]['variable']\n",
    "def lhcost(da):\n",
    "    zip_da = da[:5]\n",
    "    return Da_Dfc[zip_da]['Global']['cost_opening']*DAC_ZipCode_Dict[da]['opening_variable'] + Da_Dfc[zip_da]['Global']['slope'] * DAC_ZipCode_Dict[da][\"Weight_variable\"]\n",
    "\n",
    "prob += pulp.lpSum([lmcost(pc,da) for pc in Arcs.keys() for da in Arcs[pc].keys()]) + nb_trucks*pulp.lpSum([lhcost(da) for da in Useful_Da])\n",
    "\n",
    "# Create Constraint : every Zip is allocated\n",
    "print(\"Create contraint 'every zipcode is assigned to a DA'\")\n",
    "for pc in tqdm(Arcs.keys()):          \n",
    "    prob += pulp.lpSum([Arcs[pc][da]['variable'] for da in Arcs[pc].keys()]) == 1\n",
    "\n",
    "# Volume only if DC open, limit the max number of DA\n",
    "for da in Useful_Da:\n",
    "    Zip_temp = []\n",
    "    for pc in Arcs.keys():\n",
    "        try:\n",
    "            Zip_temp.append(Arcs[pc][da]['variable'])\n",
    "        except:\n",
    "#            Whatever lline to prevent error in case da is not in zip dict\n",
    "            j=10      \n",
    "    prob += pulp.lpSum(Zip_temp)-1500*DAC_ZipCode_Dict[da]['opening_variable'] <= 0\n",
    "    \n",
    " # Constraint over the weight variable   \n",
    "for da in Useful_Da:\n",
    "    prob += DAC_ZipCode_Dict[da][\"Weight_variable\"] >= 0\n",
    "    prob += DAC_ZipCode_Dict[da][\"Weight_variable\"] >= pulp.lpSum([ZipCode_Dict[pc]['Volume']*Arcs[pc][da]['variable'] for pc in Arcs.keys() if da in Arcs[pc]]) / nb_trucks * weight_per_volume -weight_treshold_ltl \n",
    "\n",
    "# The problem is solved using PuLP's choice of Solver\n",
    "print(\"Solve Problem\")\n",
    "start_time = time.clock()\n",
    "solve= pulp.solvers.GUROBI(timeLimit = 300)\n",
    "\n",
    "solve.actualSolve(prob)\n",
    "end_time = time.clock()\n",
    "print(end_time-start_time)\n",
    "\n",
    "# The status of the solution is printed to the screen\n",
    "print(\"Status:\", pulp.LpStatus[prob.status])\n",
    "\n",
    "\n",
    "# The optimised objective function value is printed to the screen    \n",
    "print (\"total cost\", pulp.value(prob.objective))\n",
    "\n",
    "#Create workbook for results\n",
    "w_result = xl.Workbook()\n",
    "wresultassign = w_result.create_sheet('Optimization Results Assignment')\n",
    "wresultda =  w_result.create_sheet('Optimization Results DA')\n",
    "# export results on excel\n",
    "\n",
    "print(\"Exporting Results\")\n",
    "\n",
    "wresultassign.cell(row=1,column=1).value= \"ZipCode\"\n",
    "wresultassign.cell(row=1,column=2).value= \"Carrier\"\n",
    "wresultassign.cell(row=1,column=3).value= \"DaZipCode\"\n",
    "wresultassign.cell(row=1,column=4).value= 'DA and Carrier'\n",
    "wresultassign.cell(row=1,column=5).value= 'Volume'\n",
    "wresultassign.cell(row=1,column=6).value= 'Unit Cost'\n",
    "# Print Results on excel\n",
    "r=2\n",
    "for pc in Arcs.keys():\n",
    "    for da in Arcs[pc].keys():\n",
    "        if Arcs[pc][da]['variable'].varValue !=0:\n",
    "            wresultassign.cell(row=r,column=1).value= pc\n",
    "            wresultassign.cell(row=r,column=2).value= da[6:]\n",
    "            wresultassign.cell(row=r,column=3).value= da[:5]\n",
    "            wresultassign.cell(row=r,column=4).value= da\n",
    "            wresultassign.cell(row=r,column=5).value= ZipCode_Dict[pc]['Volume']            \n",
    "            wresultassign.cell(row=r,column=6).value= Arcs[pc][da]['lm_cost']\n",
    "            r+=1\n",
    "            \n",
    "            \n",
    "wresultda.cell(row=1,column=1).value= \"Da\"\n",
    "wresultda.cell(row=1,column=2).value= \"Carrier\"\n",
    "wresultda.cell(row=1,column=3).value= \"Da zip\"\n",
    "wresultda.cell(row=1,column=4).value= 'Volume'\n",
    "wresultda.cell(row=1,column=5).value= 'lh cost'\n",
    "\n",
    "# Print Results on excel\n",
    "r=2\n",
    "\n",
    "for da in Useful_Da:\n",
    "    if DAC_ZipCode_Dict[da]['opening_variable'].varValue !=0:\n",
    "        wresultda.cell(row=r,column=1).value= da\n",
    "        wresultda.cell(row=r,column=2).value= da[6:]\n",
    "        wresultda.cell(row=r,column=3).value= da[:5]\n",
    "        wresultda.cell(row=r,column=5).value= (DAC_ZipCode_Dict[da][\"Weight_variable\"].varValue * Da_Dfc[da[:5]]['Global']['slope']+ Da_Dfc[da[:5]]['Global']['cost_opening'])*nb_trucks\n",
    "\n",
    "        r+=1\n",
    "\n",
    "\n",
    "\n",
    "\n",
    "print(\"Save File\")\n",
    "\n",
    "w_result.save(\"C:\\HomeDepot_Excel_Files\\Optimized.xlsx\")\n",
    "\n",
    "# Return List of useful DA\n",
    "Useful_Da = []\n",
    "for pc in Arcs.keys():\n",
    "    for da in Arcs[pc].keys():\n",
    "        if Arcs[pc][da]['variable'].varValue != 0:\n",
    "            Useful_Da = list(set().union([da],Useful_Da))\n",
    "print('Number of useful DA :', len(Useful_Da))\n",
    "         "
   ]
  },
  {
   "cell_type": "code",
   "execution_count": null,
   "metadata": {
    "collapsed": true
   },
   "outputs": [],
   "source": []
  }
 ],
 "metadata": {
  "kernelspec": {
   "display_name": "Python 3",
   "language": "python",
   "name": "python3"
  },
  "language_info": {
   "codemirror_mode": {
    "name": "ipython",
    "version": 3
   },
   "file_extension": ".py",
   "mimetype": "text/x-python",
   "name": "python",
   "nbconvert_exporter": "python",
   "pygments_lexer": "ipython3",
   "version": "3.6.1"
  }
 },
 "nbformat": 4,
 "nbformat_minor": 2
}
